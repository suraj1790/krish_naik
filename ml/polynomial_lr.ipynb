{
 "cells": [
  {
   "cell_type": "code",
   "execution_count": 2,
   "metadata": {},
   "outputs": [],
   "source": [
    "import numpy as np\n",
    "import pandas as pd\n",
    "import seaborn as sns\n",
    "import matplotlib.pyplot as plt\n"
   ]
  },
  {
   "cell_type": "code",
   "execution_count": 10,
   "metadata": {},
   "outputs": [],
   "source": [
    "x = 6 * np.random.rand(100,1) - 3\n",
    "y = 0.5*x**2 + 1.5*x+2+np.random.randn(100,1)"
   ]
  },
  {
   "cell_type": "code",
   "execution_count": 11,
   "metadata": {},
   "outputs": [
    {
     "data": {
      "text/plain": [
       "array([[-1.46107483],\n",
       "       [ 0.6805376 ],\n",
       "       [ 2.61140365],\n",
       "       [-2.03275033],\n",
       "       [-0.49159402],\n",
       "       [-0.6587421 ],\n",
       "       [ 0.38890807],\n",
       "       [-2.02305498],\n",
       "       [-2.42009467],\n",
       "       [ 0.05090379],\n",
       "       [ 2.86730725],\n",
       "       [-0.70057818],\n",
       "       [ 1.78488954],\n",
       "       [-2.65787521],\n",
       "       [-1.44820074],\n",
       "       [ 2.56179685],\n",
       "       [-1.06761758],\n",
       "       [-1.4243303 ],\n",
       "       [-0.40663604],\n",
       "       [ 0.93899961],\n",
       "       [-2.46706664],\n",
       "       [ 1.59873448],\n",
       "       [ 0.25716513],\n",
       "       [-2.04248318],\n",
       "       [ 0.38813224],\n",
       "       [-0.66591234],\n",
       "       [ 2.94919525],\n",
       "       [-0.941015  ],\n",
       "       [-1.69640867],\n",
       "       [-1.7539451 ],\n",
       "       [-2.5300822 ],\n",
       "       [ 0.19989102],\n",
       "       [ 2.09118262],\n",
       "       [ 1.95799668],\n",
       "       [ 1.08289686],\n",
       "       [-0.35023548],\n",
       "       [ 2.68989799],\n",
       "       [-0.56920209],\n",
       "       [-2.45006545],\n",
       "       [-0.64865173],\n",
       "       [ 0.54026067],\n",
       "       [ 0.64467784],\n",
       "       [-1.50336786],\n",
       "       [-1.97655271],\n",
       "       [ 2.81324486],\n",
       "       [ 1.22669922],\n",
       "       [ 0.06241527],\n",
       "       [ 2.26967231],\n",
       "       [-2.82012829],\n",
       "       [ 1.75676601],\n",
       "       [-0.4954349 ],\n",
       "       [ 0.76311709],\n",
       "       [ 2.13547187],\n",
       "       [-1.00237768],\n",
       "       [ 0.59809915],\n",
       "       [-0.51852088],\n",
       "       [-0.10439249],\n",
       "       [ 2.71516567],\n",
       "       [-1.82257746],\n",
       "       [-0.22073535],\n",
       "       [-1.55188332],\n",
       "       [ 0.9484645 ],\n",
       "       [ 2.32384418],\n",
       "       [ 1.58306631],\n",
       "       [-2.23994759],\n",
       "       [-2.64515646],\n",
       "       [-2.21919204],\n",
       "       [ 0.02582306],\n",
       "       [ 1.49900698],\n",
       "       [ 0.72601921],\n",
       "       [-0.71807729],\n",
       "       [ 1.50484102],\n",
       "       [ 2.26551831],\n",
       "       [ 0.31581806],\n",
       "       [-2.70163711],\n",
       "       [ 2.00220898],\n",
       "       [ 1.31165837],\n",
       "       [-0.23117753],\n",
       "       [-0.68149192],\n",
       "       [-2.13604697],\n",
       "       [-0.59749644],\n",
       "       [-0.31568423],\n",
       "       [-1.58311249],\n",
       "       [-0.32598551],\n",
       "       [ 2.17370415],\n",
       "       [ 2.42660512],\n",
       "       [ 0.71690843],\n",
       "       [-2.04177497],\n",
       "       [-0.40474606],\n",
       "       [-2.58356101],\n",
       "       [-0.03160703],\n",
       "       [-1.33018037],\n",
       "       [-0.05436402],\n",
       "       [ 1.36958763],\n",
       "       [-0.19981734],\n",
       "       [ 1.74601571],\n",
       "       [ 0.51054585],\n",
       "       [ 0.67222231],\n",
       "       [ 0.62877493],\n",
       "       [ 1.60838678]])"
      ]
     },
     "execution_count": 11,
     "metadata": {},
     "output_type": "execute_result"
    }
   ],
   "source": [
    "x"
   ]
  },
  {
   "cell_type": "code",
   "execution_count": 12,
   "metadata": {},
   "outputs": [
    {
     "data": {
      "text/plain": [
       "array([[ 1.68734649],\n",
       "       [ 3.60255435],\n",
       "       [10.13682255],\n",
       "       [-0.88608161],\n",
       "       [ 2.6516664 ],\n",
       "       [ 0.11750093],\n",
       "       [ 2.69749507],\n",
       "       [ 1.78200016],\n",
       "       [ 1.12459889],\n",
       "       [ 0.80086061],\n",
       "       [11.28748507],\n",
       "       [ 0.68584169],\n",
       "       [ 6.25800897],\n",
       "       [ 1.78438577],\n",
       "       [-0.87046767],\n",
       "       [ 8.26295346],\n",
       "       [ 0.72274281],\n",
       "       [ 0.39445209],\n",
       "       [ 1.47868191],\n",
       "       [ 3.72089062],\n",
       "       [ 1.50035225],\n",
       "       [ 8.23130151],\n",
       "       [ 1.73154236],\n",
       "       [ 1.10538912],\n",
       "       [ 1.43777993],\n",
       "       [ 1.519907  ],\n",
       "       [10.81496321],\n",
       "       [ 0.40884359],\n",
       "       [ 1.1703519 ],\n",
       "       [ 1.04648343],\n",
       "       [-0.17377258],\n",
       "       [ 2.68934008],\n",
       "       [ 7.37579547],\n",
       "       [ 6.57957119],\n",
       "       [ 3.65062759],\n",
       "       [ 2.24171144],\n",
       "       [ 8.78880386],\n",
       "       [ 1.03413494],\n",
       "       [ 0.54789504],\n",
       "       [ 1.03142003],\n",
       "       [ 3.11032233],\n",
       "       [ 3.58050781],\n",
       "       [ 3.1241867 ],\n",
       "       [-0.90970159],\n",
       "       [10.34225588],\n",
       "       [ 4.64816842],\n",
       "       [ 3.05013401],\n",
       "       [ 8.14680721],\n",
       "       [ 1.63564411],\n",
       "       [ 4.29819578],\n",
       "       [ 0.41079398],\n",
       "       [ 2.97465634],\n",
       "       [ 5.01993631],\n",
       "       [ 3.15026479],\n",
       "       [ 2.09604615],\n",
       "       [ 1.31061451],\n",
       "       [ 1.25001831],\n",
       "       [ 8.22699738],\n",
       "       [ 0.83507846],\n",
       "       [ 0.33607552],\n",
       "       [ 0.03514024],\n",
       "       [ 4.20125076],\n",
       "       [ 6.72001163],\n",
       "       [ 6.90969921],\n",
       "       [-0.27073008],\n",
       "       [ 1.32797573],\n",
       "       [ 0.4320799 ],\n",
       "       [ 3.21186882],\n",
       "       [ 7.00449138],\n",
       "       [ 3.40645196],\n",
       "       [-0.59996285],\n",
       "       [ 6.18229838],\n",
       "       [ 8.40926431],\n",
       "       [ 0.55438411],\n",
       "       [ 0.73756303],\n",
       "       [ 7.20357162],\n",
       "       [ 3.74426291],\n",
       "       [ 1.86801873],\n",
       "       [ 0.9438787 ],\n",
       "       [-0.24511808],\n",
       "       [ 2.82500135],\n",
       "       [ 1.46351108],\n",
       "       [-0.30764132],\n",
       "       [ 2.8002415 ],\n",
       "       [ 8.78354605],\n",
       "       [ 8.05121478],\n",
       "       [ 2.23827227],\n",
       "       [ 0.84721131],\n",
       "       [ 2.05266876],\n",
       "       [ 1.8310275 ],\n",
       "       [ 4.04690343],\n",
       "       [-0.19728878],\n",
       "       [ 1.83640385],\n",
       "       [ 4.24155762],\n",
       "       [-0.11307944],\n",
       "       [ 7.12555949],\n",
       "       [ 3.4491653 ],\n",
       "       [ 1.86391991],\n",
       "       [ 3.86573614],\n",
       "       [ 4.59652455]])"
      ]
     },
     "execution_count": 12,
     "metadata": {},
     "output_type": "execute_result"
    }
   ],
   "source": [
    "y"
   ]
  },
  {
   "cell_type": "code",
   "execution_count": 13,
   "metadata": {},
   "outputs": [
    {
     "data": {
      "text/plain": [
       "<matplotlib.collections.PathCollection at 0x72c86b4d5700>"
      ]
     },
     "execution_count": 13,
     "metadata": {},
     "output_type": "execute_result"
    },
    {
     "data": {
      "image/png": "[encoded data removed]",
      "text/plain": [
       "<Figure size 640x480 with 1 Axes>"
      ]
     },
     "metadata": {},
     "output_type": "display_data"
    }
   ],
   "source": [
    "plt.scatter(x,y)"
   ]
  },
  {
   "cell_type": "code",
   "execution_count": 14,
   "metadata": {},
   "outputs": [],
   "source": [
    "from sklearn.model_selection import train_test_split\n",
    "x_train,x_test,y_train,y_test = train_test_split(x,y,test_size=0.2,random_state=42)"
   ]
  },
  {
   "cell_type": "code",
   "execution_count": 15,
   "metadata": {},
   "outputs": [
    {
     "data": {
      "text/plain": [
       "((80, 1), (80, 1), (20, 1), (20, 1))"
      ]
     },
     "execution_count": 15,
     "metadata": {},
     "output_type": "execute_result"
    }
   ],
   "source": [
    "x_train.shape,y_train.shape,x_test.shape,y_test.shape"
   ]
  },
  {
   "cell_type": "code",
   "execution_count": 17,
   "metadata": {},
   "outputs": [],
   "source": [
    "from sklearn.linear_model import LinearRegression\n",
    "lr_model = LinearRegression()"
   ]
  },
  {
   "cell_type": "code",
   "execution_count": 19,
   "metadata": {},
   "outputs": [
    {
     "data": {
      "text/html": [
       "<style>#sk-container-id-1 {\n",
       "  /* Definition of color scheme common for light and dark mode */\n",
       "  --sklearn-color-text: black;\n",
       "  --sklearn-color-line: gray;\n",
       "  /* Definition of color scheme for unfitted estimators */\n",
       "  --sklearn-color-unfitted-level-0: #fff5e6;\n",
       "  --sklearn-color-unfitted-level-1: #f6e4d2;\n",
       "  --sklearn-color-unfitted-level-2: #ffe0b3;\n",
       "  --sklearn-color-unfitted-level-3: chocolate;\n",
       "  /* Definition of color scheme for fitted estimators */\n",
       "  --sklearn-color-fitted-level-0: #f0f8ff;\n",
       "  --sklearn-color-fitted-level-1: #d4ebff;\n",
       "  --sklearn-color-fitted-level-2: #b3dbfd;\n",
       "  --sklearn-color-fitted-level-3: cornflowerblue;\n",
       "\n",
       "  /* Specific color for light theme */\n",
       "  --sklearn-color-text-on-default-background: var(--sg-text-color, var(--theme-code-foreground, var(--jp-content-font-color1, black)));\n",
       "  --sklearn-color-background: var(--sg-background-color, var(--theme-background, var(--jp-layout-color0, white)));\n",
       "  --sklearn-color-border-box: var(--sg-text-color, var(--theme-code-foreground, var(--jp-content-font-color1, black)));\n",
       "  --sklearn-color-icon: #696969;\n",
       "\n",
       "  @media (prefers-color-scheme: dark) {\n",
       "    /* Redefinition of color scheme for dark theme */\n",
       "    --sklearn-color-text-on-default-background: var(--sg-text-color, var(--theme-code-foreground, var(--jp-content-font-color1, white)));\n",
       "    --sklearn-color-background: var(--sg-background-color, var(--theme-background, var(--jp-layout-color0, #111)));\n",
       "    --sklearn-color-border-box: var(--sg-text-color, var(--theme-code-foreground, var(--jp-content-font-color1, white)));\n",
       "    --sklearn-color-icon: #878787;\n",
       "  }\n",
       "}\n",
       "\n",
       "#sk-container-id-1 {\n",
       "  color: var(--sklearn-color-text);\n",
       "}\n",
       "\n",
       "#sk-container-id-1 pre {\n",
       "  padding: 0;\n",
       "}\n",
       "\n",
       "#sk-container-id-1 input.sk-hidden--visually {\n",
       "  border: 0;\n",
       "  clip: rect(1px 1px 1px 1px);\n",
       "  clip: rect(1px, 1px, 1px, 1px);\n",
       "  height: 1px;\n",
       "  margin: -1px;\n",
       "  overflow: hidden;\n",
       "  padding: 0;\n",
       "  position: absolute;\n",
       "  width: 1px;\n",
       "}\n",
       "\n",
       "#sk-container-id-1 div.sk-dashed-wrapped {\n",
       "  border: 1px dashed var(--sklearn-color-line);\n",
       "  margin: 0 0.4em 0.5em 0.4em;\n",
       "  box-sizing: border-box;\n",
       "  padding-bottom: 0.4em;\n",
       "  background-color: var(--sklearn-color-background);\n",
       "}\n",
       "\n",
       "#sk-container-id-1 div.sk-container {\n",
       "  /* jupyter's `normalize.less` sets `[hidden] { display: none; }`\n",
       "     but bootstrap.min.css set `[hidden] { display: none !important; }`\n",
       "     so we also need the `!important` here to be able to override the\n",
       "     default hidden behavior on the sphinx rendered scikit-learn.org.\n",
       "     See: https://github.com/scikit-learn/scikit-learn/issues/21755 */\n",
       "  display: inline-block !important;\n",
       "  position: relative;\n",
       "}\n",
       "\n",
       "#sk-container-id-1 div.sk-text-repr-fallback {\n",
       "  display: none;\n",
       "}\n",
       "\n",
       "div.sk-parallel-item,\n",
       "div.sk-serial,\n",
       "div.sk-item {\n",
       "  /* draw centered vertical line to link estimators */\n",
       "  background-image: linear-gradient(var(--sklearn-color-text-on-default-background), var(--sklearn-color-text-on-default-background));\n",
       "  background-size: 2px 100%;\n",
       "  background-repeat: no-repeat;\n",
       "  background-position: center center;\n",
       "}\n",
       "\n",
       "/* Parallel-specific style estimator block */\n",
       "\n",
       "#sk-container-id-1 div.sk-parallel-item::after {\n",
       "  content: \"\";\n",
       "  width: 100%;\n",
       "  border-bottom: 2px solid var(--sklearn-color-text-on-default-background);\n",
       "  flex-grow: 1;\n",
       "}\n",
       "\n",
       "#sk-container-id-1 div.sk-parallel {\n",
       "  display: flex;\n",
       "  align-items: stretch;\n",
       "  justify-content: center;\n",
       "  background-color: var(--sklearn-color-background);\n",
       "  position: relative;\n",
       "}\n",
       "\n",
       "#sk-container-id-1 div.sk-parallel-item {\n",
       "  display: flex;\n",
       "  flex-direction: column;\n",
       "}\n",
       "\n",
       "#sk-container-id-1 div.sk-parallel-item:first-child::after {\n",
       "  align-self: flex-end;\n",
       "  width: 50%;\n",
       "}\n",
       "\n",
       "#sk-container-id-1 div.sk-parallel-item:last-child::after {\n",
       "  align-self: flex-start;\n",
       "  width: 50%;\n",
       "}\n",
       "\n",
       "#sk-container-id-1 div.sk-parallel-item:only-child::after {\n",
       "  width: 0;\n",
       "}\n",
       "\n",
       "/* Serial-specific style estimator block */\n",
       "\n",
       "#sk-container-id-1 div.sk-serial {\n",
       "  display: flex;\n",
       "  flex-direction: column;\n",
       "  align-items: center;\n",
       "  background-color: var(--sklearn-color-background);\n",
       "  padding-right: 1em;\n",
       "  padding-left: 1em;\n",
       "}\n",
       "\n",
       "\n",
       "/* Toggleable style: style used for estimator/Pipeline/ColumnTransformer box that is\n",
       "clickable and can be expanded/collapsed.\n",
       "- Pipeline and ColumnTransformer use this feature and define the default style\n",
       "- Estimators will overwrite some part of the style using the `sk-estimator` class\n",
       "*/\n",
       "\n",
       "/* Pipeline and ColumnTransformer style (default) */\n",
       "\n",
       "#sk-container-id-1 div.sk-toggleable {\n",
       "  /* Default theme specific background. It is overwritten whether we have a\n",
       "  specific estimator or a Pipeline/ColumnTransformer */\n",
       "  background-color: var(--sklearn-color-background);\n",
       "}\n",
       "\n",
       "/* Toggleable label */\n",
       "#sk-container-id-1 label.sk-toggleable__label {\n",
       "  cursor: pointer;\n",
       "  display: block;\n",
       "  width: 100%;\n",
       "  margin-bottom: 0;\n",
       "  padding: 0.5em;\n",
       "  box-sizing: border-box;\n",
       "  text-align: center;\n",
       "}\n",
       "\n",
       "#sk-container-id-1 label.sk-toggleable__label-arrow:before {\n",
       "  /* Arrow on the left of the label */\n",
       "  content: \"▸\";\n",
       "  float: left;\n",
       "  margin-right: 0.25em;\n",
       "  color: var(--sklearn-color-icon);\n",
       "}\n",
       "\n",
       "#sk-container-id-1 label.sk-toggleable__label-arrow:hover:before {\n",
       "  color: var(--sklearn-color-text);\n",
       "}\n",
       "\n",
       "/* Toggleable content - dropdown */\n",
       "\n",
       "#sk-container-id-1 div.sk-toggleable__content {\n",
       "  max-height: 0;\n",
       "  max-width: 0;\n",
       "  overflow: hidden;\n",
       "  text-align: left;\n",
       "  /* unfitted */\n",
       "  background-color: var(--sklearn-color-unfitted-level-0);\n",
       "}\n",
       "\n",
       "#sk-container-id-1 div.sk-toggleable__content.fitted {\n",
       "  /* fitted */\n",
       "  background-color: var(--sklearn-color-fitted-level-0);\n",
       "}\n",
       "\n",
       "#sk-container-id-1 div.sk-toggleable__content pre {\n",
       "  margin: 0.2em;\n",
       "  border-radius: 0.25em;\n",
       "  color: var(--sklearn-color-text);\n",
       "  /* unfitted */\n",
       "  background-color: var(--sklearn-color-unfitted-level-0);\n",
       "}\n",
       "\n",
       "#sk-container-id-1 div.sk-toggleable__content.fitted pre {\n",
       "  /* unfitted */\n",
       "  background-color: var(--sklearn-color-fitted-level-0);\n",
       "}\n",
       "\n",
       "#sk-container-id-1 input.sk-toggleable__control:checked~div.sk-toggleable__content {\n",
       "  /* Expand drop-down */\n",
       "  max-height: 200px;\n",
       "  max-width: 100%;\n",
       "  overflow: auto;\n",
       "}\n",
       "\n",
       "#sk-container-id-1 input.sk-toggleable__control:checked~label.sk-toggleable__label-arrow:before {\n",
       "  content: \"▾\";\n",
       "}\n",
       "\n",
       "/* Pipeline/ColumnTransformer-specific style */\n",
       "\n",
       "#sk-container-id-1 div.sk-label input.sk-toggleable__control:checked~label.sk-toggleable__label {\n",
       "  color: var(--sklearn-color-text);\n",
       "  background-color: var(--sklearn-color-unfitted-level-2);\n",
       "}\n",
       "\n",
       "#sk-container-id-1 div.sk-label.fitted input.sk-toggleable__control:checked~label.sk-toggleable__label {\n",
       "  background-color: var(--sklearn-color-fitted-level-2);\n",
       "}\n",
       "\n",
       "/* Estimator-specific style */\n",
       "\n",
       "/* Colorize estimator box */\n",
       "#sk-container-id-1 div.sk-estimator input.sk-toggleable__control:checked~label.sk-toggleable__label {\n",
       "  /* unfitted */\n",
       "  background-color: var(--sklearn-color-unfitted-level-2);\n",
       "}\n",
       "\n",
       "#sk-container-id-1 div.sk-estimator.fitted input.sk-toggleable__control:checked~label.sk-toggleable__label {\n",
       "  /* fitted */\n",
       "  background-color: var(--sklearn-color-fitted-level-2);\n",
       "}\n",
       "\n",
       "#sk-container-id-1 div.sk-label label.sk-toggleable__label,\n",
       "#sk-container-id-1 div.sk-label label {\n",
       "  /* The background is the default theme color */\n",
       "  color: var(--sklearn-color-text-on-default-background);\n",
       "}\n",
       "\n",
       "/* On hover, darken the color of the background */\n",
       "#sk-container-id-1 div.sk-label:hover label.sk-toggleable__label {\n",
       "  color: var(--sklearn-color-text);\n",
       "  background-color: var(--sklearn-color-unfitted-level-2);\n",
       "}\n",
       "\n",
       "/* Label box, darken color on hover, fitted */\n",
       "#sk-container-id-1 div.sk-label.fitted:hover label.sk-toggleable__label.fitted {\n",
       "  color: var(--sklearn-color-text);\n",
       "  background-color: var(--sklearn-color-fitted-level-2);\n",
       "}\n",
       "\n",
       "/* Estimator label */\n",
       "\n",
       "#sk-container-id-1 div.sk-label label {\n",
       "  font-family: monospace;\n",
       "  font-weight: bold;\n",
       "  display: inline-block;\n",
       "  line-height: 1.2em;\n",
       "}\n",
       "\n",
       "#sk-container-id-1 div.sk-label-container {\n",
       "  text-align: center;\n",
       "}\n",
       "\n",
       "/* Estimator-specific */\n",
       "#sk-container-id-1 div.sk-estimator {\n",
       "  font-family: monospace;\n",
       "  border: 1px dotted var(--sklearn-color-border-box);\n",
       "  border-radius: 0.25em;\n",
       "  box-sizing: border-box;\n",
       "  margin-bottom: 0.5em;\n",
       "  /* unfitted */\n",
       "  background-color: var(--sklearn-color-unfitted-level-0);\n",
       "}\n",
       "\n",
       "#sk-container-id-1 div.sk-estimator.fitted {\n",
       "  /* fitted */\n",
       "  background-color: var(--sklearn-color-fitted-level-0);\n",
       "}\n",
       "\n",
       "/* on hover */\n",
       "#sk-container-id-1 div.sk-estimator:hover {\n",
       "  /* unfitted */\n",
       "  background-color: var(--sklearn-color-unfitted-level-2);\n",
       "}\n",
       "\n",
       "#sk-container-id-1 div.sk-estimator.fitted:hover {\n",
       "  /* fitted */\n",
       "  background-color: var(--sklearn-color-fitted-level-2);\n",
       "}\n",
       "\n",
       "/* Specification for estimator info (e.g. \"i\" and \"?\") */\n",
       "\n",
       "/* Common style for \"i\" and \"?\" */\n",
       "\n",
       ".sk-estimator-doc-link,\n",
       "a:link.sk-estimator-doc-link,\n",
       "a:visited.sk-estimator-doc-link {\n",
       "  float: right;\n",
       "  font-size: smaller;\n",
       "  line-height: 1em;\n",
       "  font-family: monospace;\n",
       "  background-color: var(--sklearn-color-background);\n",
       "  border-radius: 1em;\n",
       "  height: 1em;\n",
       "  width: 1em;\n",
       "  text-decoration: none !important;\n",
       "  margin-left: 1ex;\n",
       "  /* unfitted */\n",
       "  border: var(--sklearn-color-unfitted-level-1) 1pt solid;\n",
       "  color: var(--sklearn-color-unfitted-level-1);\n",
       "}\n",
       "\n",
       ".sk-estimator-doc-link.fitted,\n",
       "a:link.sk-estimator-doc-link.fitted,\n",
       "a:visited.sk-estimator-doc-link.fitted {\n",
       "  /* fitted */\n",
       "  border: var(--sklearn-color-fitted-level-1) 1pt solid;\n",
       "  color: var(--sklearn-color-fitted-level-1);\n",
       "}\n",
       "\n",
       "/* On hover */\n",
       "div.sk-estimator:hover .sk-estimator-doc-link:hover,\n",
       ".sk-estimator-doc-link:hover,\n",
       "div.sk-label-container:hover .sk-estimator-doc-link:hover,\n",
       ".sk-estimator-doc-link:hover {\n",
       "  /* unfitted */\n",
       "  background-color: var(--sklearn-color-unfitted-level-3);\n",
       "  color: var(--sklearn-color-background);\n",
       "  text-decoration: none;\n",
       "}\n",
       "\n",
       "div.sk-estimator.fitted:hover .sk-estimator-doc-link.fitted:hover,\n",
       ".sk-estimator-doc-link.fitted:hover,\n",
       "div.sk-label-container:hover .sk-estimator-doc-link.fitted:hover,\n",
       ".sk-estimator-doc-link.fitted:hover {\n",
       "  /* fitted */\n",
       "  background-color: var(--sklearn-color-fitted-level-3);\n",
       "  color: var(--sklearn-color-background);\n",
       "  text-decoration: none;\n",
       "}\n",
       "\n",
       "/* Span, style for the box shown on hovering the info icon */\n",
       ".sk-estimator-doc-link span {\n",
       "  display: none;\n",
       "  z-index: 9999;\n",
       "  position: relative;\n",
       "  font-weight: normal;\n",
       "  right: .2ex;\n",
       "  padding: .5ex;\n",
       "  margin: .5ex;\n",
       "  width: min-content;\n",
       "  min-width: 20ex;\n",
       "  max-width: 50ex;\n",
       "  color: var(--sklearn-color-text);\n",
       "  box-shadow: 2pt 2pt 4pt #999;\n",
       "  /* unfitted */\n",
       "  background: var(--sklearn-color-unfitted-level-0);\n",
       "  border: .5pt solid var(--sklearn-color-unfitted-level-3);\n",
       "}\n",
       "\n",
       ".sk-estimator-doc-link.fitted span {\n",
       "  /* fitted */\n",
       "  background: var(--sklearn-color-fitted-level-0);\n",
       "  border: var(--sklearn-color-fitted-level-3);\n",
       "}\n",
       "\n",
       ".sk-estimator-doc-link:hover span {\n",
       "  display: block;\n",
       "}\n",
       "\n",
       "/* \"?\"-specific style due to the `<a>` HTML tag */\n",
       "\n",
       "#sk-container-id-1 a.estimator_doc_link {\n",
       "  float: right;\n",
       "  font-size: 1rem;\n",
       "  line-height: 1em;\n",
       "  font-family: monospace;\n",
       "  background-color: var(--sklearn-color-background);\n",
       "  border-radius: 1rem;\n",
       "  height: 1rem;\n",
       "  width: 1rem;\n",
       "  text-decoration: none;\n",
       "  /* unfitted */\n",
       "  color: var(--sklearn-color-unfitted-level-1);\n",
       "  border: var(--sklearn-color-unfitted-level-1) 1pt solid;\n",
       "}\n",
       "\n",
       "#sk-container-id-1 a.estimator_doc_link.fitted {\n",
       "  /* fitted */\n",
       "  border: var(--sklearn-color-fitted-level-1) 1pt solid;\n",
       "  color: var(--sklearn-color-fitted-level-1);\n",
       "}\n",
       "\n",
       "/* On hover */\n",
       "#sk-container-id-1 a.estimator_doc_link:hover {\n",
       "  /* unfitted */\n",
       "  background-color: var(--sklearn-color-unfitted-level-3);\n",
       "  color: var(--sklearn-color-background);\n",
       "  text-decoration: none;\n",
       "}\n",
       "\n",
       "#sk-container-id-1 a.estimator_doc_link.fitted:hover {\n",
       "  /* fitted */\n",
       "  background-color: var(--sklearn-color-fitted-level-3);\n",
       "}\n",
       "</style><div id=\"sk-container-id-1\" class=\"sk-top-container\"><div class=\"sk-text-repr-fallback\"><pre>LinearRegression()</pre><b>In a Jupyter environment, please rerun this cell to show the HTML representation or trust the notebook. <br />On GitHub, the HTML representation is unable to render, please try loading this page with nbviewer.org.</b></div><div class=\"sk-container\" hidden><div class=\"sk-item\"><div class=\"sk-estimator fitted sk-toggleable\"><input class=\"sk-toggleable__control sk-hidden--visually\" id=\"sk-estimator-id-1\" type=\"checkbox\" checked><label for=\"sk-estimator-id-1\" class=\"sk-toggleable__label fitted sk-toggleable__label-arrow fitted\">&nbsp;&nbsp;LinearRegression<a class=\"sk-estimator-doc-link fitted\" rel=\"noreferrer\" target=\"_blank\" href=\"https://scikit-learn.org/1.5/modules/generated/sklearn.linear_model.LinearRegression.html\">?<span>Documentation for LinearRegression</span></a><span class=\"sk-estimator-doc-link fitted\">i<span>Fitted</span></span></label><div class=\"sk-toggleable__content fitted\"><pre>LinearRegression()</pre></div> </div></div></div></div>"
      ],
      "text/plain": [
       "LinearRegression()"
      ]
     },
     "execution_count": 19,
     "metadata": {},
     "output_type": "execute_result"
    }
   ],
   "source": [
    "lr_model.fit(x_train,y_train)"
   ]
  },
  {
   "cell_type": "code",
   "execution_count": 20,
   "metadata": {},
   "outputs": [],
   "source": [
    "from sklearn.metrics import r2_score,mean_absolute_error,root_mean_squared_error\n",
    "y_pred = lr_model.predict(x_test)"
   ]
  },
  {
   "cell_type": "code",
   "execution_count": 21,
   "metadata": {},
   "outputs": [
    {
     "name": "stdout",
     "output_type": "stream",
     "text": [
      "r2 :  0.7165619699189882\n",
      "mae :  1.275306828538247\n",
      "rmse :  1.6271189662586314\n"
     ]
    }
   ],
   "source": [
    "print(\"r2 : \", r2_score(y_test,y_pred))\n",
    "print(\"mae : \", mean_absolute_error(y_test,y_pred))\n",
    "print(\"rmse : \", root_mean_squared_error(y_test,y_pred))"
   ]
  },
  {
   "cell_type": "code",
   "execution_count": 25,
   "metadata": {},
   "outputs": [
    {
     "data": {
      "text/plain": [
       "Text(0, 0.5, 'y_data')"
      ]
     },
     "execution_count": 25,
     "metadata": {},
     "output_type": "execute_result"
    },
    {
     "data": {
      "image/png": "[encoded data removed]",
      "text/plain": [
       "<Figure size 640x480 with 1 Axes>"
      ]
     },
     "metadata": {},
     "output_type": "display_data"
    }
   ],
   "source": [
    "plt.scatter(x_train,y_train)\n",
    "plt.plot(x_train,lr_model.predict(x_train),color=\"red\")\n",
    "plt.xlabel(\"x_data\")\n",
    "plt.ylabel(\"y_data\")"
   ]
  },
  {
   "cell_type": "code",
   "execution_count": 29,
   "metadata": {},
   "outputs": [],
   "source": [
    "\n",
    "from sklearn.preprocessing import PolynomialFeatures\n",
    "poly = PolynomialFeatures(degree=2,include_bias=True)\n",
    "\n",
    "x_train_poly = poly.fit_transform(x_train)\n",
    "x_test_poly = poly.transform(x_test)\n"
   ]
  },
  {
   "cell_type": "code",
   "execution_count": 30,
   "metadata": {},
   "outputs": [
    {
     "data": {
      "text/plain": [
       "array([[ 1.00000000e+00, -5.18520884e-01,  2.68863907e-01],\n",
       "       [ 1.00000000e+00, -4.04746056e-01,  1.63819370e-01],\n",
       "       [ 1.00000000e+00,  2.94919525e+00,  8.69775261e+00],\n",
       "       [ 1.00000000e+00, -1.50336786e+00,  2.26011493e+00],\n",
       "       [ 1.00000000e+00,  7.26019207e-01,  5.27103888e-01],\n",
       "       [ 1.00000000e+00,  2.56179685e+00,  6.56280312e+00],\n",
       "       [ 1.00000000e+00,  5.40260668e-01,  2.91881590e-01],\n",
       "       [ 1.00000000e+00,  5.10545849e-01,  2.60657064e-01],\n",
       "       [ 1.00000000e+00,  5.09037877e-02,  2.59119560e-03],\n",
       "       [ 1.00000000e+00,  2.26551831e+00,  5.13257323e+00],\n",
       "       [ 1.00000000e+00, -7.00578180e-01,  4.90809786e-01],\n",
       "       [ 1.00000000e+00,  2.26967231e+00,  5.15141239e+00],\n",
       "       [ 1.00000000e+00,  2.42660512e+00,  5.88841241e+00],\n",
       "       [ 1.00000000e+00, -1.69640867e+00,  2.87780238e+00],\n",
       "       [ 1.00000000e+00,  1.36958763e+00,  1.87577027e+00],\n",
       "       [ 1.00000000e+00, -6.58742104e-01,  4.33941159e-01],\n",
       "       [ 1.00000000e+00, -2.21919204e+00,  4.92481333e+00],\n",
       "       [ 1.00000000e+00, -2.64515646e+00,  6.99685269e+00],\n",
       "       [ 1.00000000e+00, -3.50235475e-01,  1.22664888e-01],\n",
       "       [ 1.00000000e+00, -1.06761758e+00,  1.13980729e+00],\n",
       "       [ 1.00000000e+00,  1.75676601e+00,  3.08622683e+00],\n",
       "       [ 1.00000000e+00,  1.08289686e+00,  1.17266560e+00],\n",
       "       [ 1.00000000e+00, -2.02305498e+00,  4.09275144e+00],\n",
       "       [ 1.00000000e+00,  1.74601571e+00,  3.04857084e+00],\n",
       "       [ 1.00000000e+00, -9.41014999e-01,  8.85509227e-01],\n",
       "       [ 1.00000000e+00,  9.38999606e-01,  8.81720261e-01],\n",
       "       [ 1.00000000e+00, -3.15684232e-01,  9.96565343e-02],\n",
       "       [ 1.00000000e+00, -6.65912338e-01,  4.43439242e-01],\n",
       "       [ 1.00000000e+00,  2.32384418e+00,  5.40025175e+00],\n",
       "       [ 1.00000000e+00, -2.65787521e+00,  7.06430064e+00],\n",
       "       [ 1.00000000e+00,  3.88132241e-01,  1.50646636e-01],\n",
       "       [ 1.00000000e+00, -2.03275033e+00,  4.13207389e+00],\n",
       "       [ 1.00000000e+00, -1.42433030e+00,  2.02871682e+00],\n",
       "       [ 1.00000000e+00, -2.45006545e+00,  6.00282072e+00],\n",
       "       [ 1.00000000e+00, -2.42009467e+00,  5.85685820e+00],\n",
       "       [ 1.00000000e+00, -6.81491918e-01,  4.64431235e-01],\n",
       "       [ 1.00000000e+00,  3.88908068e-01,  1.51249486e-01],\n",
       "       [ 1.00000000e+00, -2.23994759e+00,  5.01736523e+00],\n",
       "       [ 1.00000000e+00,  2.68989799e+00,  7.23555118e+00],\n",
       "       [ 1.00000000e+00, -2.58356101e+00,  6.67478751e+00],\n",
       "       [ 1.00000000e+00, -1.04392488e-01,  1.08977914e-02],\n",
       "       [ 1.00000000e+00,  1.60838678e+00,  2.58690802e+00],\n",
       "       [ 1.00000000e+00,  5.98099149e-01,  3.57722592e-01],\n",
       "       [ 1.00000000e+00, -1.97655271e+00,  3.90676063e+00],\n",
       "       [ 1.00000000e+00, -4.95434897e-01,  2.45455737e-01],\n",
       "       [ 1.00000000e+00,  2.58230579e-02,  6.66830319e-04],\n",
       "       [ 1.00000000e+00,  6.24152718e-02,  3.89566615e-03],\n",
       "       [ 1.00000000e+00,  1.49900698e+00,  2.24702193e+00],\n",
       "       [ 1.00000000e+00,  9.48464504e-01,  8.99584916e-01],\n",
       "       [ 1.00000000e+00,  6.72222315e-01,  4.51882841e-01],\n",
       "       [ 1.00000000e+00, -2.13604697e+00,  4.56269667e+00],\n",
       "       [ 1.00000000e+00,  6.44677844e-01,  4.15609522e-01],\n",
       "       [ 1.00000000e+00, -1.82257746e+00,  3.32178859e+00],\n",
       "       [ 1.00000000e+00, -2.82012829e+00,  7.95312360e+00],\n",
       "       [ 1.00000000e+00,  6.28774930e-01,  3.95357912e-01],\n",
       "       [ 1.00000000e+00,  2.71516567e+00,  7.37212460e+00],\n",
       "       [ 1.00000000e+00,  2.00220898e+00,  4.00884079e+00],\n",
       "       [ 1.00000000e+00,  2.09118262e+00,  4.37304475e+00],\n",
       "       [ 1.00000000e+00, -1.99817336e-01,  3.99269677e-02],\n",
       "       [ 1.00000000e+00, -2.20735354e-01,  4.87240965e-02],\n",
       "       [ 1.00000000e+00,  1.58306631e+00,  2.50609895e+00],\n",
       "       [ 1.00000000e+00,  2.17370415e+00,  4.72498974e+00],\n",
       "       [ 1.00000000e+00, -5.69202093e-01,  3.23991022e-01],\n",
       "       [ 1.00000000e+00, -1.75394510e+00,  3.07632340e+00],\n",
       "       [ 1.00000000e+00,  6.80537597e-01,  4.63131422e-01],\n",
       "       [ 1.00000000e+00,  2.13547187e+00,  4.56024011e+00],\n",
       "       [ 1.00000000e+00,  1.59873448e+00,  2.55595192e+00],\n",
       "       [ 1.00000000e+00,  2.61140365e+00,  6.81942902e+00],\n",
       "       [ 1.00000000e+00, -2.04248318e+00,  4.17173753e+00],\n",
       "       [ 1.00000000e+00, -2.04177497e+00,  4.16884503e+00],\n",
       "       [ 1.00000000e+00, -1.33018037e+00,  1.76937981e+00],\n",
       "       [ 1.00000000e+00, -2.70163711e+00,  7.29884310e+00],\n",
       "       [ 1.00000000e+00,  7.16908427e-01,  5.13957693e-01],\n",
       "       [ 1.00000000e+00, -1.58311249e+00,  2.50624515e+00],\n",
       "       [ 1.00000000e+00, -2.46706664e+00,  6.08641780e+00],\n",
       "       [ 1.00000000e+00, -1.55188332e+00,  2.40834184e+00],\n",
       "       [ 1.00000000e+00,  1.50484102e+00,  2.26454649e+00],\n",
       "       [ 1.00000000e+00, -1.44820074e+00,  2.09728540e+00],\n",
       "       [ 1.00000000e+00, -5.43640230e-02,  2.95544699e-03],\n",
       "       [ 1.00000000e+00,  7.63117093e-01,  5.82347698e-01]])"
      ]
     },
     "execution_count": 30,
     "metadata": {},
     "output_type": "execute_result"
    }
   ],
   "source": [
    "x_train_poly"
   ]
  },
  {
   "cell_type": "code",
   "execution_count": 31,
   "metadata": {},
   "outputs": [
    {
     "data": {
      "text/plain": [
       "array([[ 1.00000000e+00, -3.25985507e-01,  1.06266551e-01],\n",
       "       [ 1.00000000e+00, -1.00237768e+00,  1.00476102e+00],\n",
       "       [ 1.00000000e+00, -7.18077289e-01,  5.15634993e-01],\n",
       "       [ 1.00000000e+00,  1.22669922e+00,  1.50479098e+00],\n",
       "       [ 1.00000000e+00,  2.81324486e+00,  7.91434665e+00],\n",
       "       [ 1.00000000e+00, -6.48651733e-01,  4.20749071e-01],\n",
       "       [ 1.00000000e+00,  2.57165133e-01,  6.61339056e-02],\n",
       "       [ 1.00000000e+00, -5.97496435e-01,  3.57001990e-01],\n",
       "       [ 1.00000000e+00,  2.86730725e+00,  8.22145088e+00],\n",
       "       [ 1.00000000e+00, -1.46107483e+00,  2.13473967e+00],\n",
       "       [ 1.00000000e+00, -4.06636041e-01,  1.65352870e-01],\n",
       "       [ 1.00000000e+00, -2.53008220e+00,  6.40131592e+00],\n",
       "       [ 1.00000000e+00,  3.15818062e-01,  9.97410482e-02],\n",
       "       [ 1.00000000e+00,  1.95799668e+00,  3.83375098e+00],\n",
       "       [ 1.00000000e+00, -3.16070328e-02,  9.99004522e-04],\n",
       "       [ 1.00000000e+00, -4.91594025e-01,  2.41664685e-01],\n",
       "       [ 1.00000000e+00,  1.31165837e+00,  1.72044767e+00],\n",
       "       [ 1.00000000e+00, -2.31177528e-01,  5.34430492e-02],\n",
       "       [ 1.00000000e+00,  1.78488954e+00,  3.18583068e+00],\n",
       "       [ 1.00000000e+00,  1.99891020e-01,  3.99564198e-02]])"
      ]
     },
     "execution_count": 31,
     "metadata": {},
     "output_type": "execute_result"
    }
   ],
   "source": [
    "x_test_poly"
   ]
  },
  {
   "cell_type": "code",
   "execution_count": 33,
   "metadata": {},
   "outputs": [],
   "source": [
    "model2 = LinearRegression()\n",
    "model2.fit(x_train_poly,y_train)\n",
    "y_pred = model2.predict(x_test_poly)\n"
   ]
  },
  {
   "cell_type": "code",
   "execution_count": 34,
   "metadata": {},
   "outputs": [
    {
     "name": "stdout",
     "output_type": "stream",
     "text": [
      "r2 :  0.8407279225459021\n",
      "mae :  0.9787584064002891\n",
      "rmse :  1.219719787170755\n"
     ]
    }
   ],
   "source": [
    "print(\"r2 : \", r2_score(y_test,y_pred))\n",
    "print(\"mae : \", mean_absolute_error(y_test,y_pred))\n",
    "print(\"rmse : \", root_mean_squared_error(y_test,y_pred))"
   ]
  },
  {
   "cell_type": "code",
   "execution_count": 41,
   "metadata": {},
   "outputs": [
    {
     "data": {
      "text/plain": [
       "<matplotlib.collections.PathCollection at 0x72c86830b3b0>"
      ]
     },
     "execution_count": 41,
     "metadata": {},
     "output_type": "execute_result"
    },
    {
     "data": {
      "image/png": "[encoded data removed]",
      "text/plain": [
       "<Figure size 640x480 with 1 Axes>"
      ]
     },
     "metadata": {},
     "output_type": "display_data"
    }
   ],
   "source": [
    "plt.scatter(x_train,y_train)\n",
    "plt.scatter(x_train,model2.predict(x_train_poly),color=\"r\")"
   ]
  },
  {
   "cell_type": "code",
   "execution_count": 42,
   "metadata": {},
   "outputs": [
    {
     "data": {
      "text/plain": [
       "array([3.117008])"
      ]
     },
     "execution_count": 42,
     "metadata": {},
     "output_type": "execute_result"
    }
   ],
   "source": [
    "lr_model.intercept_"
   ]
  },
  {
   "cell_type": "code",
   "execution_count": 43,
   "metadata": {},
   "outputs": [
    {
     "data": {
      "text/plain": [
       "array([[1.53230903]])"
      ]
     },
     "execution_count": 43,
     "metadata": {},
     "output_type": "execute_result"
    }
   ],
   "source": [
    "lr_model.coef_"
   ]
  },
  {
   "cell_type": "code",
   "execution_count": 44,
   "metadata": {},
   "outputs": [
    {
     "data": {
      "text/plain": [
       "array([[0.        , 1.56220362, 0.47810325]])"
      ]
     },
     "execution_count": 44,
     "metadata": {},
     "output_type": "execute_result"
    }
   ],
   "source": [
    "model2.coef_"
   ]
  },
  {
   "cell_type": "code",
   "execution_count": 45,
   "metadata": {},
   "outputs": [
    {
     "data": {
      "text/plain": [
       "array([1.8038161])"
      ]
     },
     "execution_count": 45,
     "metadata": {},
     "output_type": "execute_result"
    }
   ],
   "source": [
    "model2.intercept_"
   ]
  },
  {
   "cell_type": "code",
   "execution_count": 49,
   "metadata": {},
   "outputs": [
    {
     "data": {
      "text/plain": [
       "<matplotlib.collections.PathCollection at 0x72c85fff1a60>"
      ]
     },
     "execution_count": 49,
     "metadata": {},
     "output_type": "execute_result"
    },
    {
     "data": {
      "image/png": "[encoded data removed]",
      "text/plain": [
       "<Figure size 640x480 with 1 Axes>"
      ]
     },
     "metadata": {},
     "output_type": "display_data"
    }
   ],
   "source": [
    "poly = PolynomialFeatures(degree=4,include_bias=True)\n",
    "\n",
    "x_train_poly = poly.fit_transform(x_train)\n",
    "x_test_poly = poly.transform(x_test)\n",
    "\n",
    "model2 = LinearRegression()\n",
    "model2.fit(x_train_poly,y_train)\n",
    "y_pred = model2.predict(x_test_poly)\n",
    "plt.scatter(x_train,y_train)\n",
    "plt.scatter(x_train,model2.predict(x_train_poly),color=\"r\")"
   ]
  },
  {
   "cell_type": "code",
   "execution_count": null,
   "metadata": {},
   "outputs": [],
   "source": []
  }
 ],
 "metadata": {
  "kernelspec": {
   "display_name": "base",
   "language": "python",
   "name": "python3"
  },
  "language_info": {
   "codemirror_mode": {
    "name": "ipython",
    "version": 3
   },
   "file_extension": ".py",
   "mimetype": "text/x-python",
   "name": "python",
   "nbconvert_exporter": "python",
   "pygments_lexer": "ipython3",
   "version": "3.12.7"
  }
 },
 "nbformat": 4,
 "nbformat_minor": 2
}
